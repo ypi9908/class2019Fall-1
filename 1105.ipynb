{
 "cells": [
  {
   "cell_type": "markdown",
   "metadata": {},
   "source": [
    "Numpy - 숫자 처리를 잘 하기 위해서 / list상에서는 어떤 계산도 되지 않기 때문에 numpy에 담아야 계산이 가능해짐.\n",
    "np.array - numpy형태의 데이터로 바뀐다.\n",
    "다차원의 array를 만들어줌... 계산이 가능해짐.\n",
    "dimension\n",
    "1차원 - 벡터 / 2차원 - matrix\n",
    "\n",
    "\n",
    "Sinusoidal\n",
    "Sinusoidal function을 만들어내는 것 - phasor\n",
    "곡선으로 만들어내는 것 - phasor / sine 코사인\n",
    "sin()\n",
    "\n",
    "0~2ㅠ (radians)\n",
    "0~360도 (degree)\n",
    "\n",
    "sin(radians, degree값이 들어가면 안됨.)\n",
    "cos(radians)\n",
    "\n",
    "\n",
    "cos(0)=1=cos(2ㅠ)/ cos(ㅠ/2)=0\n",
    "sin(0)=0\n",
    "sin과 cos 그래프 어떻게 그리는지 알아두기!\n",
    ">>phasor\n",
    "\n",
    "0~100ㅠ까지 그래프를 반복해서 그리면 > 50개 들어있음.\n",
    "cos, sin > phasor\n",
    "데이터를 degree가 아니라 radians로 받음!!\n",
    "\n",
    "cos(theta)\n",
    "theta=3ㅠ/2\n",
    "cos(theta)=0\n",
    "sin(theta)=-1\n",
    "오일러공식\n",
    "\n",
    "e-자연로그 숫자값\n",
    "i-imaginary / 실수의 반댓말... 허수\n",
    "i - 제곱해서 -1이 되는 값\n",
    "\n",
    "ethetai = cos(theta)+sin(theta)i\n",
    "\n",
    "함수라고 생각하기... e와i는 고정 / radian 값이 변하면서 값이 달라짐...\n",
    "f(theta)=e thetai / 함수가 이 모양으로 생겼다고 생각하기.. theta가 변하면서 값이 바뀜.\n",
    "theta만 정해지면 숫자값이 나올것... / theta가 변하면 output도 변함.\n",
    "\n",
    "복소수\n",
    "모든 수 a+bi로 표현 가능.. \n",
    "즉 e thetai는 a+bi로 표현할 수 있음...\n",
    "\n",
    "theta=0,ㅠ/2,3ㅠ/2, 2ㅠ\n",
    "theta=0 / f(0)= e 0 =1\n",
    "theta=ㅠ/2 / cos(ㅠ/2)+sin(ㅠ/2)i = 0+1i = i\n",
    "theta=ㅠ / -1\n",
    "theta=3ㅠ/2 / -i\n",
    "theta=2ㅠ / 1\n",
    "반복이 계속 됨.\n",
    "\n",
    "a+bi 복소수를 표현하는 방법 - phasor\n",
    "complex plane \n",
    "x-a\n",
    "y-b\n",
    "\n",
    "1=(1,0)\n",
    "i=(0,1)\n",
    "-1(-1,0)\n",
    "-i(0,-1)\n",
    "\n",
    "각도 = theta\n",
    "e thetai - 함수 / 입력값 = radian = 각도\n",
    "복소평면에서 각도만 넣으면 특정 point가 나온다...\n",
    "\n",
    "복소평면에서 각도 theta를 넣고 그 특정값을 a+bi에 넣으면 된다...\n",
    "\n",
    "beta - 숫자열! = 정보\n",
    "(1,0) - beta임... 이 하나하나가 베타값임... 표현된것!!\n",
    "\n",
    "projection... \n",
    "x축에 projection / y축에 projection\n",
    "\n",
    "a 실수부분...x축에서 projection\n",
    "b 허수부분... y축에서 projection / 2차원을 옆으로 눕혀서....\n",
    "projection의 두 방향...\n",
    "실수 - cos\n",
    "허수 - sin \n",
    "오일러 공식에 따르면...\n",
    "\n",
    "cos그래프...1부터 시작\n",
    "sin...0부터 시작\n",
    "\n",
    "오일러 phasor는 cos, sin을 동시에 가지고 있음... 우리가 원할 때에 따라서 projection을 다르게 시킴으로써 cos, sin을 하나씩 볼 수도 있음...\n",
    "\n",
    "\n",
    "공통적으로 radian 각도값이 들어감..."
   ]
  },
  {
   "cell_type": "markdown",
   "metadata": {},
   "source": [
    "sin(theta) - 여기에 시간의 개념이 들어갈까...??? / 몇바퀴도는가에 관한 것이기 때문에 시간의 개념이 이 속에 포함되어 있지 않음...\n",
    "frequency - 초당... / 시간의 개념 /\n",
    "시간의 개념이 정확하게 정의되어 있지 않으면 소리를 만들 수 없음\n",
    "sin wave가 왔다갔다한다... 이 안에 각도뿐 아니라 초 개념을 넣어놔야지 '소리'라는 실체를 만들 수 있다.\n",
    "소리 - 시간의 개념이 포함되어있어야 한다...\n",
    "sin(theta) - 이렇게만 하면 실체의 소리를 만들어낼 수 없음.\n"
   ]
  },
  {
   "cell_type": "markdown",
   "metadata": {},
   "source": [
    "Phasor"
   ]
  },
  {
   "cell_type": "code",
   "execution_count": 4,
   "metadata": {},
   "outputs": [],
   "source": [
    "import numpy as np"
   ]
  },
  {
   "cell_type": "code",
   "execution_count": 2,
   "metadata": {},
   "outputs": [],
   "source": [
    "#parameter setting\n",
    "amp=1\n",
    "sr=10000 #sampling rate, Hz (음질상 얼마나 고해상도로 하는가 / 음질의 해상도)\n",
    "dur=0.5\n",
    "freq=100.0"
   ]
  },
  {
   "cell_type": "code",
   "execution_count": 5,
   "metadata": {},
   "outputs": [
    {
     "ename": "SyntaxError",
     "evalue": "invalid syntax (<ipython-input-5-dc6c6f4e78c8>, line 1)",
     "output_type": "error",
     "traceback": [
      "\u001b[1;36m  File \u001b[1;32m\"<ipython-input-5-dc6c6f4e78c8>\"\u001b[1;36m, line \u001b[1;32m1\u001b[0m\n\u001b[1;33m    t 0.0001 0.0002 0.0003 ... 0.5000\u001b[0m\n\u001b[1;37m           ^\u001b[0m\n\u001b[1;31mSyntaxError\u001b[0m\u001b[1;31m:\u001b[0m invalid syntax\n"
     ]
    }
   ],
   "source": [
    "t 0.0001 0.0002 0.0003 ... 0.5000\n",
    "#time을 얼마나 잘게 쪼개는지에 관련된 해상도와 같은 것!! / sampling rate는 1초 동안 들어가는 time\n",
    "#0.1 = "
   ]
  },
  {
   "cell_type": "code",
   "execution_count": 7,
   "metadata": {},
   "outputs": [
    {
     "data": {
      "text/plain": [
       "array([   1,    2,    3, ..., 9997, 9998, 9999])"
      ]
     },
     "execution_count": 7,
     "metadata": {},
     "output_type": "execute_result"
    }
   ],
   "source": [
    "t=np.arange(1,sr)\n",
    "t"
   ]
  },
  {
   "cell_type": "code",
   "execution_count": 8,
   "metadata": {},
   "outputs": [],
   "source": [
    "t=np.arange(1,sr+1)"
   ]
  },
  {
   "cell_type": "code",
   "execution_count": 9,
   "metadata": {},
   "outputs": [
    {
     "data": {
      "text/plain": [
       "array([    1,     2,     3, ...,  9998,  9999, 10000])"
      ]
     },
     "execution_count": 9,
     "metadata": {},
     "output_type": "execute_result"
    }
   ],
   "source": [
    "t"
   ]
  },
  {
   "cell_type": "code",
   "execution_count": 11,
   "metadata": {},
   "outputs": [
    {
     "data": {
      "text/plain": [
       "array([1.000e+00, 2.000e+00, 3.000e+00, ..., 4.998e+03, 4.999e+03,\n",
       "       5.000e+03])"
      ]
     },
     "execution_count": 11,
     "metadata": {},
     "output_type": "execute_result"
    }
   ],
   "source": [
    "t=np.arange(1,sr*dur+1)\n",
    "t"
   ]
  },
  {
   "cell_type": "code",
   "execution_count": 14,
   "metadata": {},
   "outputs": [
    {
     "data": {
      "text/plain": [
       "array([1.000e-04, 2.000e-04, 3.000e-04, ..., 4.998e-01, 4.999e-01,\n",
       "       5.000e-01])"
      ]
     },
     "execution_count": 14,
     "metadata": {},
     "output_type": "execute_result"
    }
   ],
   "source": [
    "t=np.arange(1,sr*dur+1)/sr\n",
    "t"
   ]
  },
  {
   "cell_type": "code",
   "execution_count": 15,
   "metadata": {},
   "outputs": [],
   "source": [
    "#e-04 / 1/10000\n",
    "#e-01 / 1/10"
   ]
  },
  {
   "cell_type": "code",
   "execution_count": 16,
   "metadata": {},
   "outputs": [],
   "source": [
    "theta = t * 2*np.pi * freq\n",
    "#np.pi - 상수 2ㅠ / numpy속에서 가져온 것임...\n",
    "#freq - 몇바퀴 도는지에 관한 것...\n",
    "#2ㅠ가 1초동안 총 몇번 있어야 하는지...\n",
    "#time을 먼저 만들고 그 time에 phasor을 연동시키는 것... time과 phase -theta 각도 개념이 동시에 들어가는 것..."
   ]
  },
  {
   "cell_type": "code",
   "execution_count": 22,
   "metadata": {},
   "outputs": [],
   "source": [
    "s=np.sin(theta)"
   ]
  },
  {
   "cell_type": "code",
   "execution_count": 23,
   "metadata": {},
   "outputs": [],
   "source": [
    "#time과 theta - 벡터... 숫자열이므로 / time의 beta의 사이즈 - 개수, theta의 beta의 사이즈는 같다??? >> True\n",
    "#time을 1/1000에서 1/5000초까지 5000개의 time 벡터를 만듦... 그리고 그 만든 것을 조정해서 theta에 넣었으므로\n",
    "#time과 theta의 벡터 사이즈는 동일하다."
   ]
  },
  {
   "cell_type": "code",
   "execution_count": 24,
   "metadata": {},
   "outputs": [
    {
     "ename": "NameError",
     "evalue": "name 'plt' is not defined",
     "output_type": "error",
     "traceback": [
      "\u001b[1;31m---------------------------------------------------------------------------\u001b[0m",
      "\u001b[1;31mNameError\u001b[0m                                 Traceback (most recent call last)",
      "\u001b[1;32m<ipython-input-24-b507d3d153e2>\u001b[0m in \u001b[0;36m<module>\u001b[1;34m\u001b[0m\n\u001b[1;32m----> 1\u001b[1;33m \u001b[0mfig\u001b[0m\u001b[1;33m=\u001b[0m\u001b[0mplt\u001b[0m\u001b[1;33m.\u001b[0m\u001b[0mfigure\u001b[0m\u001b[1;33m(\u001b[0m\u001b[1;33m)\u001b[0m\u001b[1;33m\u001b[0m\u001b[1;33m\u001b[0m\u001b[0m\n\u001b[0m\u001b[0;32m      2\u001b[0m \u001b[0max\u001b[0m\u001b[1;33m=\u001b[0m\u001b[0mfig\u001b[0m\u001b[1;33m.\u001b[0m\u001b[0madd_subplot\u001b[0m\u001b[1;33m(\u001b[0m\u001b[1;36m111\u001b[0m\u001b[1;33m)\u001b[0m\u001b[1;33m\u001b[0m\u001b[1;33m\u001b[0m\u001b[0m\n\u001b[0;32m      3\u001b[0m \u001b[0max\u001b[0m\u001b[1;33m.\u001b[0m\u001b[0mplot\u001b[0m\u001b[1;33m(\u001b[0m\u001b[0mt\u001b[0m\u001b[1;33m[\u001b[0m\u001b[1;36m0\u001b[0m\u001b[1;33m:\u001b[0m\u001b[1;36m1000\u001b[0m\u001b[1;33m]\u001b[0m\u001b[1;33m,\u001b[0m\u001b[0ms\u001b[0m\u001b[1;33m[\u001b[0m\u001b[1;36m0\u001b[0m\u001b[1;33m:\u001b[0m\u001b[1;36m1000\u001b[0m\u001b[1;33m]\u001b[0m\u001b[1;33m,\u001b[0m \u001b[1;34m'.'\u001b[0m\u001b[1;33m)\u001b[0m\u001b[1;33m\u001b[0m\u001b[1;33m\u001b[0m\u001b[0m\n\u001b[0;32m      4\u001b[0m \u001b[0max\u001b[0m\u001b[1;33m.\u001b[0m\u001b[0mset_xlabel\u001b[0m\u001b[1;33m(\u001b[0m\u001b[1;34m'time(s)'\u001b[0m\u001b[1;33m)\u001b[0m\u001b[1;33m\u001b[0m\u001b[1;33m\u001b[0m\u001b[0m\n\u001b[0;32m      5\u001b[0m \u001b[0max\u001b[0m\u001b[1;33m.\u001b[0m\u001b[0mset_ylabel\u001b[0m\u001b[1;33m(\u001b[0m\u001b[1;34m'real'\u001b[0m\u001b[1;33m)\u001b[0m\u001b[1;33m\u001b[0m\u001b[1;33m\u001b[0m\u001b[0m\n",
      "\u001b[1;31mNameError\u001b[0m: name 'plt' is not defined"
     ]
    }
   ],
   "source": [
    "fig=plt.figure()\n",
    "ax=fig.add_subplot(111)\n",
    "ax.plot(t[0:1000],s[0:1000], '.')\n",
    "ax.set_xlabel('time(s)')\n",
    "ax.set_ylabel('real')"
   ]
  },
  {
   "cell_type": "code",
   "execution_count": 25,
   "metadata": {},
   "outputs": [],
   "source": [
    "import matplotlib.pyplot as plt"
   ]
  },
  {
   "cell_type": "code",
   "execution_count": 26,
   "metadata": {},
   "outputs": [
    {
     "data": {
      "text/plain": [
       "Text(0, 0.5, 'real')"
      ]
     },
     "execution_count": 26,
     "metadata": {},
     "output_type": "execute_result"
    },
    {
     "data": {
      "image/png": "[encoded data removed]",
      "text/plain": [
       "<Figure size 432x288 with 1 Axes>"
      ]
     },
     "metadata": {
      "needs_background": "light"
     },
     "output_type": "display_data"
    }
   ],
   "source": [
    "fig=plt.figure()\n",
    "ax=fig.add_subplot(111)\n",
    "ax.plot(t[0:1000],s[0:1000], '.')\n",
    "ax.set_xlabel('time(s)')\n",
    "ax.set_ylabel('real')"
   ]
  },
  {
   "cell_type": "code",
   "execution_count": null,
   "metadata": {},
   "outputs": [],
   "source": []
  }
 ],
 "metadata": {
  "kernelspec": {
   "display_name": "Python 3",
   "language": "python",
   "name": "python3"
  },
  "language_info": {
   "codemirror_mode": {
    "name": "ipython",
    "version": 3
   },
   "file_extension": ".py",
   "mimetype": "text/x-python",
   "name": "python",
   "nbconvert_exporter": "python",
   "pygments_lexer": "ipython3",
   "version": "3.7.3"
  }
 },
 "nbformat": 4,
 "nbformat_minor": 2
}
