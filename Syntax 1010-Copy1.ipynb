{
 "cells": [
  {
   "cell_type": "markdown",
   "metadata": {},
   "source": [
    "모든 computer language는 for 루프를 사용함.\n",
    "하나하나 print out하기 / 반복되는 행위 / for을 사용하여"
   ]
  },
  {
   "cell_type": "code",
   "execution_count": 1,
   "metadata": {},
   "outputs": [],
   "source": [
    "a=[1,2,3,4]"
   ]
  },
  {
   "cell_type": "code",
   "execution_count": 3,
   "metadata": {},
   "outputs": [
    {
     "name": "stdout",
     "output_type": "stream",
     "text": [
      "1\n",
      "2\n",
      "3\n",
      "4\n"
     ]
    }
   ],
   "source": [
    "for i in a :\n",
    "    print(i)\n",
    "    "
   ]
  },
  {
   "cell_type": "markdown",
   "metadata": {},
   "source": [
    "for in : (이것이 for 문법임) / in 뒤에 있는 것을 하나씩 돌려서, 한 번 한 번 할 때마다 i로 받아서 뭔갈 하라. / in뒤에 있는 것을 하나씩 돌려서 i가 그 하나씩을 받아서 뭔가 하라 (그 행위는 for 밑에 적음)"
   ]
  },
  {
   "cell_type": "markdown",
   "metadata": {},
   "source": [
    "in a - a속에 있는 것을 하나씩 불러서 i에 할당하고 그 밑에 있는 것을 하라. / 첫번째 루프는 1을 받음, 두번째는 2, 세번째는 3, 네번째는 4,\n",
    "range 함수 - range뒤에 어떤 숫자가 나오면 list를 만든다. \n",
    "ex) 4가 나오면 4개의 index를 만들어라. (0부터 시작 - 0,1,2,3) / range가 0,1,2,3을 만들어줬으므로 i가 처음 루프에는 1을 받고,\n",
    "\n",
    "Summary-for 루프\n",
    "1. list를 그대로 주는 방법 - list가 3개 들어있으면 3번 루프를 돌고, 4개 들어있으면 4번 루프를 돌고 / \n",
    "2. for 다음에 in range() - range함수는 index를 만들어줌 (0부터 n개를) - 그것을 i가 받아서 a의 몇번째, a의 몇번째를 print하는 것\n",
    "\n"
   ]
  },
  {
   "cell_type": "code",
   "execution_count": 4,
   "metadata": {},
   "outputs": [
    {
     "name": "stdout",
     "output_type": "stream",
     "text": [
      "1\n",
      "2\n",
      "3\n",
      "4\n"
     ]
    }
   ],
   "source": [
    "a=[1,2,3,4]\n",
    "for i in range(4) :\n",
    "    print(a[i])"
   ]
  },
  {
   "cell_type": "code",
   "execution_count": 6,
   "metadata": {
    "scrolled": true
   },
   "outputs": [
    {
     "name": "stdout",
     "output_type": "stream",
     "text": [
      "1\n",
      "2\n",
      "3\n",
      "4\n"
     ]
    }
   ],
   "source": [
    "a=[1,2,3,4]\n",
    "for i in range(len(a)) :\n",
    "    print(a[i])"
   ]
  },
  {
   "cell_type": "code",
   "execution_count": 7,
   "metadata": {},
   "outputs": [
    {
     "name": "stdout",
     "output_type": "stream",
     "text": [
      "1\n",
      "2\n",
      "3\n",
      "4\n",
      "5\n",
      "6\n",
      "7\n"
     ]
    }
   ],
   "source": [
    "a=[1,2,3,4,5,6,7]\n",
    "for i in range(len(a)) :\n",
    "    print(a[i])"
   ]
  },
  {
   "cell_type": "markdown",
   "metadata": {},
   "source": [
    "제일 첫번째 루프에서 i는 어떤 값을 가질까? - 0 / range가 0에서 6(총 7개) - 총 7번의 루프를 돔. / 0,1,2,3,4,5,6 / 0이 들ㅇ오면서 a의 0번째, 1이 들어오면서 a의 1번째, 2가 들어오면서 a의 두번째가 찍혀서 각각 print out되는 것임.\n",
    "for 루프의 내용은 반드시 인덴트 되어야 함. / 엔터치면 자동으로 인덴트가 됨."
   ]
  },
  {
   "cell_type": "code",
   "execution_count": 8,
   "metadata": {},
   "outputs": [
    {
     "name": "stdout",
     "output_type": "stream",
     "text": [
      "red\n",
      "green\n",
      "blue\n",
      "purple\n"
     ]
    }
   ],
   "source": [
    "a=['red', 'green', 'blue', 'purple']\n",
    "print(a[0])\n",
    "print(a[1])\n",
    "print(a[2])\n",
    "print(a[3])"
   ]
  },
  {
   "cell_type": "code",
   "execution_count": 9,
   "metadata": {},
   "outputs": [
    {
     "name": "stdout",
     "output_type": "stream",
     "text": [
      "red\n",
      "green\n",
      "blue\n",
      "purple\n"
     ]
    }
   ],
   "source": [
    "a=['red', 'green', 'blue', 'purple']\n",
    "for s in a : \n",
    "    print(s)"
   ]
  },
  {
   "cell_type": "markdown",
   "metadata": {},
   "source": [
    "s variable은 4번 돌면서 각각 바뀌는데 바뀌는 족족 print out되면서 내용이 모두 나오는 것임. / s variable이 바뀐다는 것 기억!"
   ]
  },
  {
   "cell_type": "code",
   "execution_count": 10,
   "metadata": {},
   "outputs": [
    {
     "name": "stdout",
     "output_type": "stream",
     "text": [
      "0\n",
      "1\n",
      "2\n",
      "3\n"
     ]
    }
   ],
   "source": [
    "a=['red', 'green', 'blue', 'purple']\n",
    "for s in range(4) :\n",
    "    print(s)"
   ]
  },
  {
   "cell_type": "code",
   "execution_count": 11,
   "metadata": {},
   "outputs": [
    {
     "name": "stdout",
     "output_type": "stream",
     "text": [
      "red\n",
      "green\n",
      "blue\n",
      "purple\n"
     ]
    }
   ],
   "source": [
    "a=['red', 'green', 'blue', 'purple']\n",
    "for s in range(len(a)):\n",
    "    print(a[s])"
   ]
  },
  {
   "cell_type": "code",
   "execution_count": 13,
   "metadata": {},
   "outputs": [
    {
     "name": "stdout",
     "output_type": "stream",
     "text": [
      "red\n",
      "green\n",
      "blue\n",
      "purple\n"
     ]
    }
   ],
   "source": [
    "a=['red', 'green', 'blue', 'purple']\n",
    "b=[0.2,0.3,0.1,0.4]\n",
    "for i,s in enumerate(a):\n",
    "    print(a[i])\n",
    "    \n",
    "    "
   ]
  },
  {
   "cell_type": "markdown",
   "metadata": {},
   "source": [
    "enumerate함수 - 번호 매기기 / a의 list속 variable을 번호를 매긴다. / a의 variable들에 번호를 추가로 매겨준다고 생각. \n",
    "enumerate - 번호까지 들어가는 것임.\n",
    "i에는 번호를 매겨준 0이 들어가고 s에는 red가 들어감./ enumerate는 어떤 list를 함수를 이용해서 그 output값이 자기 자신의 list뿐만 아니라 번호까지 포함되는 것임. / 만약 in다음에 그냥 a만 있었다면 for 뒤에 문자 두개를 쓸 수 없지만, enumerate를 이용해 번호가 추가로 매겨졌기 떄문에 문자 두개 / 앞에 있는 게 숫자, 뒤에 있는 게 문자"
   ]
  },
  {
   "cell_type": "code",
   "execution_count": 14,
   "metadata": {},
   "outputs": [
    {
     "name": "stdout",
     "output_type": "stream",
     "text": [
      "red: 20.0%\n",
      "green: 30.0%\n",
      "blue: 10.0%\n",
      "purple: 40.0%\n"
     ]
    }
   ],
   "source": [
    "a=['red', 'green', 'blue', 'purple']\n",
    "b=[0.2,0.3,0.1,0.4]\n",
    "for i,s in enumerate(a):\n",
    "    print(\"{}: {}%\" .format(s,b[i]*100))"
   ]
  },
  {
   "cell_type": "markdown",
   "metadata": {},
   "source": [
    "enumerate할 때 첫번째 variable에는 index번호값을 주고, 두번째 variable에는 문자를 그대로 받음. / \n",
    "i는 첫번째 루프를 돌 때 0 s는 red / 1,green / 2,blue / 3,purple - 이렇게 루프가 네번 도는 것임.\n",
    "\"\"를 하고 어떤 식으로 표기하고 싶은지. / \n",
    "format뒤에 있는 것이 중괄호 안에 루프를 돌면서 각각 꽂힌다고 생각하면 된다.\n",
    "red, 20이 \"\"속 format에 각각 박히도록 print out해라.\n",
    "\n",
    "여기서 for 루프가 4번 돈다. / i,s가 각각 물고 들어가는 값이 있는데 첫번째에는 0과 red를 물고 각각 밑으로 내려감."
   ]
  },
  {
   "cell_type": "code",
   "execution_count": 17,
   "metadata": {},
   "outputs": [
    {
     "name": "stdout",
     "output_type": "stream",
     "text": [
      "red: 20.0%\n",
      "green: 30.0%\n",
      "blue: 10.0%\n",
      "purple: 40.0%\n"
     ]
    }
   ],
   "source": [
    "a=['red', 'green', 'blue', 'purple']\n",
    "b=[0.2,0.3,0.1,0.4]\n",
    "for s,i in zip(a,b):\n",
    "    print(\"{}: {}%\" .format(s,i*100))"
   ]
  },
  {
   "cell_type": "markdown",
   "metadata": {},
   "source": [
    "zip - 페어처럼 하나로...첫번째 루프에는 s,i가 순서대로 a,b에 zip으로 페어로 묶이는 것. / 하나로 묶기 - list의 갯수가 같아야 함."
   ]
  },
  {
   "cell_type": "code",
   "execution_count": 18,
   "metadata": {},
   "outputs": [
    {
     "name": "stdout",
     "output_type": "stream",
     "text": [
      "yay!\n"
     ]
    }
   ],
   "source": [
    "a=0\n",
    "if a==0:\n",
    "    print('yay!')"
   ]
  },
  {
   "cell_type": "markdown",
   "metadata": {},
   "source": [
    "equl sign을 두 번 쓰면 진짜 equal sign임!\n",
    "a==0 : \n"
   ]
  },
  {
   "cell_type": "code",
   "execution_count": 19,
   "metadata": {},
   "outputs": [],
   "source": [
    "a=0\n",
    "if a!=0:\n",
    "    print('yay!')"
   ]
  },
  {
   "cell_type": "code",
   "execution_count": 21,
   "metadata": {},
   "outputs": [
    {
     "name": "stdout",
     "output_type": "stream",
     "text": [
      "yay!\n",
      "let's go!\n"
     ]
    }
   ],
   "source": [
    "a=0\n",
    "if a==0:\n",
    "    print('yay!')\n",
    "    print(\"let's go!\")"
   ]
  },
  {
   "cell_type": "code",
   "execution_count": 22,
   "metadata": {},
   "outputs": [
    {
     "name": "stdout",
     "output_type": "stream",
     "text": [
      "yay!\n",
      "let's go!\n"
     ]
    }
   ],
   "source": [
    "a=0\n",
    "if a>=0:\n",
    "    print('yay!')\n",
    "    print(\"let's go!\")"
   ]
  },
  {
   "cell_type": "markdown",
   "metadata": {},
   "source": [
    " >=라고 써야함. / =>라고 쓰면 안나옴. 순서중요!\n",
    " if와 else다음에 :을 달아줘야 함!!"
   ]
  },
  {
   "cell_type": "code",
   "execution_count": 23,
   "metadata": {},
   "outputs": [
    {
     "name": "stdout",
     "output_type": "stream",
     "text": [
      "yay!\n",
      "let's go!\n"
     ]
    }
   ],
   "source": [
    "a=0\n",
    "if a==0:\n",
    "    print('yay!')\n",
    "    print(\"let's go!\")\n",
    "else:\n",
    "    print(\"no\")"
   ]
  },
  {
   "cell_type": "code",
   "execution_count": 24,
   "metadata": {},
   "outputs": [
    {
     "name": "stdout",
     "output_type": "stream",
     "text": [
      "no\n"
     ]
    }
   ],
   "source": [
    "a=0\n",
    "if a!=0:\n",
    "    print('yay!')\n",
    "    print(\"let's go!\")\n",
    "else:\n",
    "    print(\"no\")"
   ]
  },
  {
   "cell_type": "code",
   "execution_count": 25,
   "metadata": {},
   "outputs": [
    {
     "name": "stdout",
     "output_type": "stream",
     "text": [
      "3\n",
      "4\n",
      "6\n",
      "8\n"
     ]
    }
   ],
   "source": [
    "for i in range(1,3):\n",
    "    for j in range(3,5):\n",
    "        print(i*j)"
   ]
  },
  {
   "cell_type": "code",
   "execution_count": 26,
   "metadata": {},
   "outputs": [
    {
     "name": "stdout",
     "output_type": "stream",
     "text": [
      "1\n",
      "2\n"
     ]
    }
   ],
   "source": [
    "for i in range(1,3):\n",
    "    print(i)"
   ]
  },
  {
   "cell_type": "code",
   "execution_count": 27,
   "metadata": {},
   "outputs": [
    {
     "name": "stdout",
     "output_type": "stream",
     "text": [
      "3\n",
      "4\n"
     ]
    }
   ],
   "source": [
    "for j in range(3,5):\n",
    "    print(j)"
   ]
  },
  {
   "cell_type": "markdown",
   "metadata": {},
   "source": [
    "첫 번째 가장 큰 for루프를 생각해보면 가장 바깥 쪽에 있는 루프는 총 몇 번 돌까? / 2번 (range를 통해 1,2)\n",
    "각 1할때도 루프가 있고, 2할 때도 루프가 있음. / 1할때 2번, 2할 때 2번 돔.\n",
    "총 4번 실행이 된다.\n",
    "i가 "
   ]
  },
  {
   "cell_type": "code",
   "execution_count": 28,
   "metadata": {},
   "outputs": [
    {
     "name": "stdout",
     "output_type": "stream",
     "text": [
      "1\n",
      "3\n",
      "4\n",
      "2\n",
      "6\n",
      "8\n"
     ]
    }
   ],
   "source": [
    "for i in range(1,3):\n",
    "    print(i)\n",
    "    for j in range(3,5):\n",
    "        print(i*j)"
   ]
  },
  {
   "cell_type": "code",
   "execution_count": 29,
   "metadata": {},
   "outputs": [
    {
     "name": "stdout",
     "output_type": "stream",
     "text": [
      "4\n",
      "8\n"
     ]
    }
   ],
   "source": [
    "for i in range(1,3):\n",
    "    for j in range(3,5):\n",
    "        if j>=4:\n",
    "            print(i*j)"
   ]
  },
  {
   "cell_type": "code",
   "execution_count": 30,
   "metadata": {},
   "outputs": [],
   "source": [
    "for i in range(1,3):\n",
    "    if i>=3:\n",
    "        for j in range(3,5):\n",
    "            print(i*j)"
   ]
  },
  {
   "cell_type": "code",
   "execution_count": 31,
   "metadata": {},
   "outputs": [],
   "source": [
    "a=[1,2,3,4]\n"
   ]
  },
  {
   "cell_type": "code",
   "execution_count": 32,
   "metadata": {},
   "outputs": [
    {
     "name": "stdout",
     "output_type": "stream",
     "text": [
      "red: 20.0%\n",
      "green: 30.0%\n",
      "blue: 10.0%\n",
      "purple: 40.0%\n"
     ]
    }
   ],
   "source": [
    "a=['red', 'green', 'blue', 'purple']\n",
    "b=[0.2,0.3,0.1,0.4]\n",
    "for s,i in zip(a,b):\n",
    "    print(\"{}: {}%\" .format(s,i*100))"
   ]
  },
  {
   "cell_type": "code",
   "execution_count": 1,
   "metadata": {},
   "outputs": [
    {
     "name": "stdout",
     "output_type": "stream",
     "text": [
      "yay!\n",
      "Let's go!\n"
     ]
    }
   ],
   "source": [
    "a=0\n",
    "if a==0:\n",
    "    print(\"yay!\")\n",
    "    print(\"Let's go!\")"
   ]
  },
  {
   "cell_type": "code",
   "execution_count": null,
   "metadata": {},
   "outputs": [],
   "source": []
  }
 ],
 "metadata": {
  "kernelspec": {
   "display_name": "Python 3",
   "language": "python",
   "name": "python3"
  },
  "language_info": {
   "codemirror_mode": {
    "name": "ipython",
    "version": 3
   },
   "file_extension": ".py",
   "mimetype": "text/x-python",
   "name": "python",
   "nbconvert_exporter": "python",
   "pygments_lexer": "ipython3",
   "version": "3.7.3"
  }
 },
 "nbformat": 4,
 "nbformat_minor": 2
}
