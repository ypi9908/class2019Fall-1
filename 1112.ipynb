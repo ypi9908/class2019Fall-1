{
 "cells": [
  {
   "cell_type": "code",
   "execution_count": 1,
   "metadata": {},
   "outputs": [],
   "source": [
    "from matplotlib import pyplot as plt\n",
    "from mpl_toolkits.mplot3d import Axes3D\n",
    "from mpl_toolkits.axes_grid1 import make_axes_locatable\n",
    "import IPython.display as ipd\n",
    "import numpy as np\n",
    "%matplotlib notebook\n",
    "from scipy.signal import lfilter"
   ]
  },
  {
   "cell_type": "markdown",
   "metadata": {},
   "source": [
    "모양뿐만 아니라 '실제 소리'라는 실체를 만들기 위해서는 시간의 개념이 들어있어야 한다.\n",
    "Phase, Theta에 time을 연동시켜야만 소리를 play할 수 있다.\n",
    "ipd.Audio(c.real, rate=sr) / c.real - real값의 벡터들, sampling rate"
   ]
  },
  {
   "cell_type": "markdown",
   "metadata": {},
   "source": [
    "가장 최소 harmonics - 그 frequency를 설정 \n",
    "가장 먼저 할 일 - F0를 정하고 그것을 통해 sine wave를 만들고 거기에 얹어서 더해나감..."
   ]
  },
  {
   "cell_type": "markdown",
   "metadata": {},
   "source": [
    "sampling rate와 frequency가 연결되는 부분...\n",
    "ex) sampling rate = 100hz / 우리가 표현할 수 있는 숫자의 갯수가 일초에 100개 \n",
    "이 100개의 숫자를 가지고 우리가 1hz의 frequency를 표현할 수 있다 없다?\n",
    "- 1초가 주어져있고 그 안에 100개의 소리가 들어있다 - sampling rate / 이를 통해 1hz를 표현할 수 있는가? - 가능 - 1초 동안 한번 왔다갔다 하면 된다.\n",
    "- 10000hz / 100개의 숫자가 주어져 있는데 1초 동안 10000번 왔다갔다할 수 있을까?\n",
    "- sampling rate가 일초에 충분히 있어야만 그만큼의 주파수를 충분히 표현할 수 있다.\n",
    "\n",
    "ex) 주어진 숫자 - 10개 / sampling rate = 10hz / 이를 가지고 100hz의 frequency를 표현할 수 있을까?\n",
    "- 최대 5번 왔다갔다 할 수 있음.. / 주어진 갯수 - sampling rate를 통해 표현할 수 있는 frequency의 maximum은 sampling rate/2\n",
    "- 몇 번 왔다갔다 - frequency / 최대 sampling rate/2 만큼 왔다갔다할 수 있음.\n",
    "- Nyguist Frequency - sampling rate/2 \n",
    "\n",
    "CD 음질\n",
    "- 44100hz (sampling rate) / 최대 22050hz (frequency)까지 표현가능하다.\n",
    "- 사람이 들을 수 있는 가청주파수가 20000hz임\n",
    "\n",
    "유선 전화의 sampling rate\n",
    "- 8000hz / Nyguist Frequency - 4000hz\n",
    "\n",
    "-Nyguist Frequency 중요 / Sampling rate의 Half - Nyguist Frequency / 숫자상으로 표현할 수 있는 frequency의 maximum\n",
    "\n",
    "-초음파 - frequency에 해당하는 이야기 / 박쥐, 돌고래의 초음파... 가청주파수 범위를 벗어남.\n",
    "\n",
    "-"
   ]
  },
  {
   "cell_type": "code",
   "execution_count": null,
   "metadata": {},
   "outputs": [],
   "source": []
  }
 ],
 "metadata": {
  "kernelspec": {
   "display_name": "Python 3",
   "language": "python",
   "name": "python3"
  },
  "language_info": {
   "codemirror_mode": {
    "name": "ipython",
    "version": 3
   },
   "file_extension": ".py",
   "mimetype": "text/x-python",
   "name": "python",
   "nbconvert_exporter": "python",
   "pygments_lexer": "ipython3",
   "version": "3.7.3"
  }
 },
 "nbformat": 4,
 "nbformat_minor": 2
}
